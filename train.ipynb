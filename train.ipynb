{
 "cells": [
  {
   "cell_type": "code",
   "execution_count": 2,
   "metadata": {
    "collapsed": true
   },
   "outputs": [],
   "source": [
    "import os\n",
    "import pandas as pd\n",
    "import numpy as np\n",
    "from PIL import Image\n",
    "import torch\n",
    "import torch.nn as nn\n",
    "import torch.optim as optim\n",
    "import torch.nn.functional as F\n",
    "from torch.autograd import Variable\n",
    "from torch.utils.data import DataLoader\n",
    "from torch.utils.data.dataset import Dataset\n",
    "import torchvision.models as models\n",
    "import torchvision.transforms as transforms"
   ]
  },
  {
   "cell_type": "code",
   "execution_count": 4,
   "metadata": {
    "collapsed": true
   },
   "outputs": [],
   "source": [
    "device=torch.device(\"cuda:0\" if torch.cuda.is_available() else \"cpu\")"
   ]
  },
  {
   "cell_type": "code",
   "execution_count": 3,
   "metadata": {
    "collapsed": true
   },
   "outputs": [],
   "source": [
    "def train(net, trainLoader, testLoader, optimizer, criterion, epochs):\n",
    "    net.train()\n",
    "    testAccuracy = 0\n",
    "    bestModel = net\n",
    "    for i in range(epochs):\n",
    "        totalLoss = 0\n",
    "        accuracy = 0\n",
    "        count = 0\n",
    "        for x, label in trainLoader:\n",
    "            x = x.to(device)\n",
    "            label = label.to(device, dtype=torch.long)\n",
    "            optimizer.zero_grad()\n",
    "            output = net(x)\n",
    "            loss = criterion(output, label)\n",
    "            _, predicted = torch.max(output.data, 1)\n",
    "            count += len(x)\n",
    "            accuracy += (predicted == label).sum().item()      \n",
    "            totalLoss += loss.item()*len(label)\n",
    "            loss.backward()\n",
    "            optimizer.step()\n",
    "        print(\"Train Loss: {}\".format(totalLoss / count))\n",
    "        print(\"Train Accuracy: {}\".format(accuracy / count))\n",
    "        if (i % 10 == 0):\n",
    "            tmpAccuracy = test(net, testLoader, criterion)\n",
    "            if (tmpAccuracy > testAccuracy):\n",
    "                testAccuracy = tmpAccuracy\n",
    "                bestModel = net\n",
    "                epoch = i\n",
    "    torch.save(bestModel, \"model/epoch\"+str(epoch)+\"_\"+str(testAccuracy)+\".pth\")\n",
    "    return net"
   ]
  },
  {
   "cell_type": "code",
   "execution_count": 4,
   "metadata": {
    "collapsed": true
   },
   "outputs": [],
   "source": [
    "def test(net, testLoader, criterion):\n",
    "    net.eval()\n",
    "    totalLoss = 0\n",
    "    accuracy = 0\n",
    "    count = 0\n",
    "    for x, label in testLoader:\n",
    "        x = x.to(device)\n",
    "        label = label.to(device, dtype=torch.long)\n",
    "        output = net(x)\n",
    "        loss = criterion(output, label)\n",
    "        _, predicted = torch.max(output.data, 1)\n",
    "        count += len(x)\n",
    "        accuracy += (predicted == label).sum().item()\n",
    "        totalLoss += loss.item()*len(label)\n",
    "    print(\"Test Loss: {}\".format(totalLoss / count))\n",
    "    print(\"Test Accuracy: {}\".format(accuracy / count))\n",
    "    return (accuracy / count)"
   ]
  },
  {
   "cell_type": "code",
   "execution_count": 5,
   "metadata": {
    "collapsed": true
   },
   "outputs": [],
   "source": [
    "class VGG16_model(nn.Module):\n",
    "    def __init__(self, numClasses=7):\n",
    "        super(VGG16_model, self).__init__()\n",
    "        self.vgg16 = nn.Sequential(\n",
    "            nn.Conv2d(3,64,3),\n",
    "            nn.ReLU(inplace=True),\n",
    "            nn.Conv2d(64,64,3),\n",
    "            nn.ReLU(inplace=True),\n",
    "            nn.MaxPool2d(kernel_size=2, stride=2),\n",
    "            nn.Conv2d(64,128,3),\n",
    "            nn.ReLU(inplace=True),\n",
    "            nn.Conv2d(128,128,3),\n",
    "            nn.MaxPool2d(kernel_size=2, stride=2),\n",
    "            nn.ReLU(inplace=True),\n",
    "            nn.Conv2d(128,256,3),\n",
    "            nn.ReLU(inplace=True),\n",
    "            nn.Conv2d(256,256,3),\n",
    "            nn.ReLU(inplace=True),\n",
    "            nn.Conv2d(256,256,3),\n",
    "            nn.MaxPool2d(kernel_size=2, stride=2),\n",
    "            nn.ReLU(inplace=True),\n",
    "            nn.Conv2d(256,512,3),\n",
    "            nn.ReLU(inplace=True),\n",
    "            nn.Conv2d(512,512,3),\n",
    "            nn.ReLU(inplace=True),\n",
    "            nn.Conv2d(512,512,3),\n",
    "            nn.MaxPool2d(kernel_size=2, stride=2),\n",
    "            nn.ReLU(inplace=True),\n",
    "            nn.Conv2d(512,512,3),\n",
    "            nn.ReLU(inplace=True),\n",
    "            nn.Conv2d(512,512,3),\n",
    "            nn.ReLU(inplace=True),\n",
    "            nn.Conv2d(512,512,3),\n",
    "            nn.ReLU(inplace=True),\n",
    "            nn.MaxPool2d(kernel_size=2, stride=2)\n",
    "        )\n",
    "        self.avgpool = nn.AdaptiveAvgPool2d((7, 7))\n",
    "        self.classifier = nn.Sequential(\n",
    "            nn.Linear(512 * 7 * 7, 4096),\n",
    "            nn.ReLU(inplace=True),\n",
    "            nn.Dropout(),\n",
    "            nn.Linear(4096, 4096),\n",
    "            nn.ReLU(inplace=True),\n",
    "            nn.Dropout(),\n",
    "            nn.Linear(4096, numClasses)\n",
    "        )\n",
    "\n",
    "    def forward(self, x):\n",
    "        x = self.vgg16(x)\n",
    "        x = self.avgpool(x)\n",
    "        x = x.view(x.size(0), -1)\n",
    "        x = self.classifier(x)\n",
    "        return x"
   ]
  },
  {
   "cell_type": "code",
   "execution_count": 6,
   "metadata": {
    "collapsed": true
   },
   "outputs": [],
   "source": [
    "class image_dataset(Dataset):\n",
    "    def __init__(self, csvFile, rootPath, transform):\n",
    "        df = pd.read_csv(csvFile)\n",
    "        self.rootPath = rootPath\n",
    "        self.xTrain = df['path']\n",
    "        self.yTrain = pd.factorize(df['label'], sort=True)[0]\n",
    "        self.transform = transform\n",
    "\n",
    "    def __getitem__(self, index):\n",
    "        img = Image.open(os.path.join(self.rootPath, self.xTrain[index]))\n",
    "        img = img.convert('RGB')\n",
    "        if self.transform is not None:\n",
    "            img = self.transform(img)\n",
    "        return img, self.yTrain[index]\n",
    "\n",
    "    def __len__(self):\n",
    "        return len(self.xTrain.index)"
   ]
  },
  {
   "cell_type": "code",
   "execution_count": 7,
   "metadata": {
    "collapsed": true
   },
   "outputs": [],
   "source": [
    "def set_parameter_requires_grad(model, featureExtracting):\n",
    "    if featureExtracting:\n",
    "        for param in model.parameters():\n",
    "            param.requires_grad = False"
   ]
  },
  {
   "cell_type": "code",
   "execution_count": 8,
   "metadata": {
    "collapsed": true
   },
   "outputs": [],
   "source": [
    "def VGG16_pretrained_model(numClasses, featureExtract=True, usePretrained=True):\n",
    "    model = models.vgg16(pretrained=True)\n",
    "    set_parameter_requires_grad(model, featureExtract)\n",
    "    numFtrs = model.classifier[6].in_features\n",
    "    model.classifier[6] = nn.Linear(numFtrs,numClasses)\n",
    "    return model"
   ]
  },
  {
   "cell_type": "code",
   "execution_count": 9,
   "metadata": {
    "collapsed": true
   },
   "outputs": [],
   "source": [
    "def main():\n",
    "    inputSize = 224\n",
    "    dataTransformsTrain = transforms.Compose([\n",
    "     transforms.RandomResizedCrop(inputSize),\n",
    "     transforms.RandomHorizontalFlip(),\n",
    "     transforms.ToTensor(),\n",
    "     transforms.Normalize([0.485, 0.456, 0.406], [0.229, 0.224, 0.225])\n",
    "    ])\n",
    "\n",
    "    dataTransformsTest = transforms.Compose([\n",
    "     transforms.Resize(inputSize),\n",
    "     transforms.CenterCrop(inputSize),\n",
    "     transforms.ToTensor(),\n",
    "     transforms.Normalize([0.485, 0.456, 0.406], [0.229, 0.224, 0.225])\n",
    "    ])\n",
    "\n",
    "    trainDatasets = image_dataset(\"dataset/train.csv\", \"dataset/cosmetics-all\", dataTransformsTrain)\n",
    "    testDatasets = image_dataset(\"dataset/test.csv\", \"dataset/cosmetics-all\", dataTransformsTest)\n",
    "    dataloadersTrain = torch.utils.data.DataLoader(trainDatasets, batch_size=32, shuffle=True, num_workers=4)\n",
    "    dataloadersTest = torch.utils.data.DataLoader(testDatasets, batch_size=32, shuffle=False)\n",
    "    model = VGG16_model(numClasses=7).to(device)\n",
    "    # model = VGG16_pretrained_model(numClasses=7, featureExtract=True, usePretrained=True).to(device)\n",
    "    \n",
    "    optimizer = torch.optim.SGD(model.parameters(), lr=0.001, momentum=0.9)\n",
    "    criterion = nn.CrossEntropyLoss().to(device)\n",
    "    model_ft = train(model, dataloadersTrain, dataloadersTest, optimizer, criterion, 11)"
   ]
  },
  {
   "cell_type": "code",
   "execution_count": 10,
   "metadata": {},
   "outputs": [
    {
     "name": "stdout",
     "output_type": "stream",
     "text": [
      "Train Loss: 1.9372227478496085\n",
      "Train Accuracy: 0.26541554959785524\n",
      "Test Loss: 1.9283317277129268\n",
      "Test Accuracy: 0.30633802816901406\n",
      "Train Loss: 1.9190211803173784\n",
      "Train Accuracy: 0.30741733690795353\n",
      "Train Loss: 1.9013489871498088\n",
      "Train Accuracy: 0.30741733690795353\n",
      "Train Loss: 1.886734832494359\n",
      "Train Accuracy: 0.30741733690795353\n",
      "Train Loss: 1.8735990189781564\n",
      "Train Accuracy: 0.30741733690795353\n",
      "Train Loss: 1.8626856161506182\n",
      "Train Accuracy: 0.30741733690795353\n",
      "Train Loss: 1.852935223519749\n",
      "Train Accuracy: 0.30741733690795353\n",
      "Train Loss: 1.8446730331611805\n",
      "Train Accuracy: 0.30741733690795353\n",
      "Train Loss: 1.8376814830079475\n",
      "Train Accuracy: 0.30741733690795353\n",
      "Train Loss: 1.831812980986792\n",
      "Train Accuracy: 0.30741733690795353\n",
      "Train Loss: 1.8265583002748396\n",
      "Train Accuracy: 0.30741733690795353\n",
      "Test Loss: 1.827178286834502\n",
      "Test Accuracy: 0.30633802816901406\n"
     ]
    },
    {
     "name": "stderr",
     "output_type": "stream",
     "text": [
      "/home/pj/anaconda3/envs/pytorch_p36/lib/python3.6/site-packages/torch/serialization.py:256: UserWarning: Couldn't retrieve source code for container of type VGG16_model. It won't be checked for correctness upon loading.\n",
      "  \"type \" + obj.__name__ + \". It won't be checked \"\n"
     ]
    }
   ],
   "source": [
    "main()"
   ]
  },
  {
   "cell_type": "code",
   "execution_count": null,
   "metadata": {
    "collapsed": true
   },
   "outputs": [],
   "source": []
  }
 ],
 "metadata": {
  "kernelspec": {
   "display_name": "pytorch_p36",
   "language": "python",
   "name": "pytorch_p36"
  },
  "language_info": {
   "codemirror_mode": {
    "name": "ipython",
    "version": 3
   },
   "file_extension": ".py",
   "mimetype": "text/x-python",
   "name": "python",
   "nbconvert_exporter": "python",
   "pygments_lexer": "ipython3",
   "version": "3.6.8"
  }
 },
 "nbformat": 4,
 "nbformat_minor": 2
}
