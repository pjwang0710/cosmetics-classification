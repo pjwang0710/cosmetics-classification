{
 "cells": [
  {
   "cell_type": "code",
   "execution_count": 1,
   "metadata": {
    "collapsed": true
   },
   "outputs": [],
   "source": [
    "import os\n",
    "import pandas as pd\n",
    "import numpy as np"
   ]
  },
  {
   "cell_type": "code",
   "execution_count": 2,
   "metadata": {
    "collapsed": true
   },
   "outputs": [],
   "source": [
    "data = pd.read_csv(\"dataset/annotation.csv\")"
   ]
  },
  {
   "cell_type": "code",
   "execution_count": 3,
   "metadata": {
    "collapsed": true
   },
   "outputs": [],
   "source": [
    "labels = data.groupby(\"label\")"
   ]
  },
  {
   "cell_type": "code",
   "execution_count": 4,
   "metadata": {
    "collapsed": true
   },
   "outputs": [],
   "source": [
    "np.random.seed(10)\n",
    "for i, label in enumerate(data.label.unique()):\n",
    "    randomList = list(range(len(labels.get_group(label))))\n",
    "    np.random.shuffle(randomList)\n",
    "    trainPart = labels.get_group(label).iloc[randomList][:int(len(randomList)*0.8)]\n",
    "    testPart = labels.get_group(label).iloc[randomList][int(len(randomList)*0.8):]\n",
    "    if (i == 0):\n",
    "        trainAll = trainPart\n",
    "        testAll = testPart\n",
    "    else:\n",
    "        trainAll = pd.concat([trainAll, trainPart], axis=0)\n",
    "        testAll = pd.concat([testAll, testPart], axis=0)"
   ]
  },
  {
   "cell_type": "code",
   "execution_count": 5,
   "metadata": {
    "collapsed": true
   },
   "outputs": [],
   "source": [
    "trainAll.to_csv(\"dataset/train.csv\",index=False)\n",
    "testAll.to_csv(\"dataset/test.csv\",index=False)"
   ]
  },
  {
   "cell_type": "code",
   "execution_count": null,
   "metadata": {
    "collapsed": true
   },
   "outputs": [],
   "source": []
  }
 ],
 "metadata": {
  "kernelspec": {
   "display_name": "pytorch_p36",
   "language": "python",
   "name": "pytorch_p36"
  },
  "language_info": {
   "codemirror_mode": {
    "name": "ipython",
    "version": 3
   },
   "file_extension": ".py",
   "mimetype": "text/x-python",
   "name": "python",
   "nbconvert_exporter": "python",
   "pygments_lexer": "ipython3",
   "version": "3.6.8"
  }
 },
 "nbformat": 4,
 "nbformat_minor": 2
}
