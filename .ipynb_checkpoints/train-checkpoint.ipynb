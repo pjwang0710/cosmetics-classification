{
 "cells": [
  {
   "cell_type": "code",
   "execution_count": 1,
   "metadata": {
    "collapsed": true
   },
   "outputs": [],
   "source": [
    "import os\n",
    "import pandas as pd\n",
    "import numpy as np\n",
    "from PIL import Image\n",
    "import torch\n",
    "import torch.nn as nn\n",
    "import torch.optim as optim\n",
    "import torch.nn.functional as F\n",
    "from torch.autograd import Variable\n",
    "from torch.utils.data import DataLoader\n",
    "from torch.utils.data.dataset import Dataset\n",
    "import torchvision.models as models\n",
    "import torchvision.transforms as transforms"
   ]
  },
  {
   "cell_type": "code",
   "execution_count": 2,
   "metadata": {
    "collapsed": true
   },
   "outputs": [],
   "source": [
    "device=torch.device(\"cuda:0\" if torch.cuda.is_available() else \"cpu\")"
   ]
  },
  {
   "cell_type": "code",
   "execution_count": 3,
   "metadata": {
    "collapsed": true
   },
   "outputs": [],
   "source": [
    "def train(net, trainLoader, testLoader, optimizer, criterion, epochs):\n",
    "    net.train()\n",
    "    testAccuracy = 0\n",
    "    bestModel = net\n",
    "    for i in range(epochs):\n",
    "        totalLoss = 0\n",
    "        accuracy = 0\n",
    "        count = 0\n",
    "        for x, label in trainLoader:\n",
    "            x = x.to(device)\n",
    "            label = label.to(device, dtype=torch.long)\n",
    "            optimizer.zero_grad()\n",
    "            output = net(x)\n",
    "            loss = criterion(output, label)\n",
    "            _, predicted = torch.max(output.data, 1)\n",
    "            count += len(x)\n",
    "            accuracy += (predicted == label).sum().item()      \n",
    "            totalLoss += loss.item()*len(label)\n",
    "            loss.backward()\n",
    "            optimizer.step()\n",
    "        print(\"Train Loss: {}\".format(totalLoss / count))\n",
    "        print(\"Train Accuracy: {}\".format(accuracy / count))\n",
    "        if (i % 10 == 0):\n",
    "            tmpAccuracy = test(net, testLoader, criterion)\n",
    "            if (tmpAccuracy > testAccuracy):\n",
    "                testAccuracy = tmpAccuracy\n",
    "                bestModel = net\n",
    "                epoch = i\n",
    "    torch.save(bestModel, \"model/epoch\"+str(epoch)+\"_\"+str(testAccuracy)+\".pth\")\n",
    "    return net"
   ]
  },
  {
   "cell_type": "code",
   "execution_count": 4,
   "metadata": {
    "collapsed": true
   },
   "outputs": [],
   "source": [
    "def test(net, testLoader, criterion):\n",
    "    net.eval()\n",
    "    totalLoss = 0\n",
    "    accuracy = 0\n",
    "    count = 0\n",
    "    for x, label in testLoader:\n",
    "        x = x.to(device)\n",
    "        label = label.to(device, dtype=torch.long)\n",
    "        output = net(x)\n",
    "        loss = criterion(output, label)\n",
    "        _, predicted = torch.max(output.data, 1)\n",
    "        count += len(x)\n",
    "        accuracy += (predicted == label).sum().item()\n",
    "        totalLoss += loss.item()*len(label)\n",
    "    print(\"Test Loss: {}\".format(totalLoss / count))\n",
    "    print(\"Test Accuracy: {}\".format(accuracy / count))\n",
    "    return (accuracy / count)"
   ]
  },
  {
   "cell_type": "code",
   "execution_count": 5,
   "metadata": {
    "collapsed": true
   },
   "outputs": [],
   "source": [
    "class CNN_model(nn.Module):\n",
    "    def __init__(self, numClasses=7):\n",
    "        super(CNN_model, self).__init__()\n",
    "        self.vgg16 = nn.Sequential(\n",
    "            nn.Conv2d(3,64,3),\n",
    "            nn.ReLU(inplace=True),\n",
    "            nn.Conv2d(64,64,3),\n",
    "            nn.ReLU(inplace=True),\n",
    "            nn.MaxPool2d(kernel_size=2, stride=2),\n",
    "            nn.Conv2d(64,128,3),\n",
    "            nn.ReLU(inplace=True),\n",
    "            nn.Conv2d(128,128,3),\n",
    "            nn.MaxPool2d(kernel_size=2, stride=2),\n",
    "            nn.ReLU(inplace=True),\n",
    "            nn.Conv2d(128,256,3),\n",
    "            nn.ReLU(inplace=True),\n",
    "            nn.Conv2d(256,256,3),\n",
    "            nn.ReLU(inplace=True),\n",
    "            nn.Conv2d(256,256,3),\n",
    "            nn.MaxPool2d(kernel_size=2, stride=2),\n",
    "            nn.ReLU(inplace=True),\n",
    "            nn.Conv2d(256,512,3),\n",
    "            nn.ReLU(inplace=True),\n",
    "            nn.Conv2d(512,512,3),\n",
    "            nn.ReLU(inplace=True),\n",
    "            nn.Conv2d(512,512,3),\n",
    "            nn.MaxPool2d(kernel_size=2, stride=2),\n",
    "            nn.ReLU(inplace=True),\n",
    "            nn.Conv2d(512,512,3),\n",
    "            nn.ReLU(inplace=True),\n",
    "            nn.Conv2d(512,512,3),\n",
    "            nn.ReLU(inplace=True),\n",
    "            nn.Conv2d(512,512,3),\n",
    "            nn.ReLU(inplace=True),\n",
    "            nn.MaxPool2d(kernel_size=2, stride=2)\n",
    "        )\n",
    "        self.avgpool = nn.AdaptiveAvgPool2d((7, 7))\n",
    "        self.classifier = nn.Sequential(\n",
    "            nn.Linear(512 * 7 * 7, 4096),\n",
    "            nn.ReLU(inplace=True),\n",
    "            nn.Dropout(),\n",
    "            nn.Linear(4096, 4096),\n",
    "            nn.ReLU(inplace=True),\n",
    "            nn.Dropout(),\n",
    "            nn.Linear(4096, numClasses)\n",
    "        )\n",
    "\n",
    "    def forward(self, x):\n",
    "        x = self.vgg16(x)\n",
    "        x = self.avgpool(x)\n",
    "        x = x.view(x.size(0), -1)\n",
    "        x = self.classifier(x)\n",
    "        return x"
   ]
  },
  {
   "cell_type": "code",
   "execution_count": 8,
   "metadata": {
    "collapsed": true
   },
   "outputs": [],
   "source": [
    "class image_dataset(Dataset):\n",
    "    def __init__(self, csvFile, rootPath, transform):\n",
    "        df = pd.read_csv(csvFile)\n",
    "        self.rootPath = rootPath\n",
    "        self.xTrain = df['path']\n",
    "        self.yTrain = pd.factorize(df['label'], sort=True)[0]\n",
    "        self.transform = transform\n",
    "\n",
    "    def __getitem__(self, index):\n",
    "        img = Image.open(os.path.join(self.rootPath, self.xTrain[index]))\n",
    "        img = img.convert('RGB')\n",
    "        if self.transform is not None:\n",
    "            img = self.transform(img)\n",
    "        return img, self.yTrain[index]\n",
    "\n",
    "    def __len__(self):\n",
    "        return len(self.xTrain.index)"
   ]
  },
  {
   "cell_type": "code",
   "execution_count": 9,
   "metadata": {
    "collapsed": true
   },
   "outputs": [],
   "source": [
    "def set_parameter_requires_grad(model, featureExtracting):\n",
    "    if featureExtracting:\n",
    "        for param in model.parameters():\n",
    "            param.requires_grad = False"
   ]
  },
  {
   "cell_type": "code",
   "execution_count": 10,
   "metadata": {},
   "outputs": [],
   "source": [
    "def VGG16(numClasses, featureExtract=True, usePretrained=True):\n",
    "    model = models.vgg16(pretrained=True)\n",
    "    set_parameter_requires_grad(model, featureExtract)\n",
    "    numFtrs = model.classifier[6].in_features\n",
    "    model.classifier[6] = nn.Linear(numFtrs,numClasses)\n",
    "    return model"
   ]
  },
  {
   "cell_type": "code",
   "execution_count": 11,
   "metadata": {
    "collapsed": true
   },
   "outputs": [],
   "source": [
    "def main():\n",
    "    inputSize = 224\n",
    "    dataTransformsTrain = transforms.Compose([\n",
    "     transforms.RandomResizedCrop(inputSize),\n",
    "     transforms.RandomHorizontalFlip(),\n",
    "     transforms.ToTensor(),\n",
    "     transforms.Normalize([0.485, 0.456, 0.406], [0.229, 0.224, 0.225])\n",
    "    ])\n",
    "\n",
    "    dataTransformsTest = transforms.Compose([\n",
    "     transforms.Resize(inputSize),\n",
    "     transforms.CenterCrop(inputSize),\n",
    "     transforms.ToTensor(),\n",
    "     transforms.Normalize([0.485, 0.456, 0.406], [0.229, 0.224, 0.225])\n",
    "    ])\n",
    "\n",
    "    trainDatasets = image_dataset(\"dataset/train.csv\", \"dataset/cosmetics-all\", dataTransformsTrain)\n",
    "    testDatasets = image_dataset(\"dataset/test.csv\", \"dataset/cosmetics-all\", dataTransformsTest)\n",
    "    dataloadersTrain = torch.utils.data.DataLoader(trainDatasets, batch_size=32, shuffle=True, num_workers=4)\n",
    "    dataloadersTest = torch.utils.data.DataLoader(testDatasets, batch_size=32, shuffle=False)\n",
    "    model = CNN_model(numClasses=7).to(device)\n",
    "#     model = VGG16(numClasses=7, featureExtract=True, usePretrained=True).to(device)\n",
    "    \n",
    "    optimizer = torch.optim.SGD(model.parameters(), lr=0.001, momentum=0.9)\n",
    "    criterion = nn.CrossEntropyLoss().to(device)\n",
    "    model_ft = train(model, dataloadersTrain, dataloadersTest, optimizer, criterion, 500)"
   ]
  },
  {
   "cell_type": "code",
   "execution_count": 12,
   "metadata": {},
   "outputs": [
    {
     "name": "stdout",
     "output_type": "stream",
     "text": [
      "Train Loss: 1.942962716688952\n",
      "Train Accuracy: 0.19571045576407506\n",
      "Test Loss: 1.9342449349416813\n",
      "Test Accuracy: 0.30633802816901406\n",
      "Train Loss: 1.924440382845813\n",
      "Train Accuracy: 0.30741733690795353\n",
      "Train Loss: 1.9064162499783186\n",
      "Train Accuracy: 0.30741733690795353\n",
      "Train Loss: 1.8912028610120404\n",
      "Train Accuracy: 0.30741733690795353\n",
      "Train Loss: 1.8777908384000968\n",
      "Train Accuracy: 0.30741733690795353\n",
      "Train Loss: 1.8660607421046607\n",
      "Train Accuracy: 0.30741733690795353\n",
      "Train Loss: 1.8564811768118454\n",
      "Train Accuracy: 0.30741733690795353\n",
      "Train Loss: 1.847660986518519\n",
      "Train Accuracy: 0.30741733690795353\n",
      "Train Loss: 1.840106609679419\n",
      "Train Accuracy: 0.30741733690795353\n",
      "Train Loss: 1.8339562015516402\n",
      "Train Accuracy: 0.30741733690795353\n",
      "Train Loss: 1.8284938545286709\n",
      "Train Accuracy: 0.30741733690795353\n",
      "Test Loss: 1.8288218404205752\n",
      "Test Accuracy: 0.30633802816901406\n",
      "Train Loss: 1.8242386373906823\n",
      "Train Accuracy: 0.30741733690795353\n",
      "Train Loss: 1.8201314152299133\n",
      "Train Accuracy: 0.30741733690795353\n",
      "Train Loss: 1.817116095297458\n",
      "Train Accuracy: 0.30741733690795353\n"
     ]
    },
    {
     "name": "stderr",
     "output_type": "stream",
     "text": [
      "Traceback (most recent call last):\n",
      "  File \"/home/pj/anaconda3/envs/pytorch_p36/lib/python3.6/multiprocessing/queues.py\", line 240, in _feed\n",
      "    send_bytes(obj)\n",
      "  File \"/home/pj/anaconda3/envs/pytorch_p36/lib/python3.6/multiprocessing/connection.py\", line 200, in send_bytes\n",
      "    self._send_bytes(m[offset:offset + size])\n",
      "  File \"/home/pj/anaconda3/envs/pytorch_p36/lib/python3.6/multiprocessing/connection.py\", line 404, in _send_bytes\n",
      "    self._send(header + buf)\n",
      "  File \"/home/pj/anaconda3/envs/pytorch_p36/lib/python3.6/multiprocessing/connection.py\", line 368, in _send\n",
      "    n = write(self._handle, buf)\n",
      "BrokenPipeError: [Errno 32] Broken pipe\n",
      "Traceback (most recent call last):\n",
      "  File \"/home/pj/anaconda3/envs/pytorch_p36/lib/python3.6/multiprocessing/queues.py\", line 240, in _feed\n",
      "    send_bytes(obj)\n",
      "  File \"/home/pj/anaconda3/envs/pytorch_p36/lib/python3.6/multiprocessing/connection.py\", line 200, in send_bytes\n",
      "    self._send_bytes(m[offset:offset + size])\n",
      "Traceback (most recent call last):\n",
      "  File \"/home/pj/anaconda3/envs/pytorch_p36/lib/python3.6/multiprocessing/queues.py\", line 240, in _feed\n",
      "    send_bytes(obj)\n",
      "  File \"/home/pj/anaconda3/envs/pytorch_p36/lib/python3.6/multiprocessing/connection.py\", line 200, in send_bytes\n",
      "    self._send_bytes(m[offset:offset + size])\n",
      "  File \"/home/pj/anaconda3/envs/pytorch_p36/lib/python3.6/multiprocessing/connection.py\", line 404, in _send_bytes\n",
      "    self._send(header + buf)\n",
      "  File \"/home/pj/anaconda3/envs/pytorch_p36/lib/python3.6/multiprocessing/connection.py\", line 368, in _send\n",
      "    n = write(self._handle, buf)\n",
      "BrokenPipeError: [Errno 32] Broken pipe\n",
      "Traceback (most recent call last):\n",
      "  File \"/home/pj/anaconda3/envs/pytorch_p36/lib/python3.6/multiprocessing/queues.py\", line 240, in _feed\n",
      "    send_bytes(obj)\n",
      "  File \"/home/pj/anaconda3/envs/pytorch_p36/lib/python3.6/multiprocessing/connection.py\", line 200, in send_bytes\n",
      "    self._send_bytes(m[offset:offset + size])\n",
      "  File \"/home/pj/anaconda3/envs/pytorch_p36/lib/python3.6/multiprocessing/connection.py\", line 404, in _send_bytes\n",
      "    self._send(header + buf)\n",
      "  File \"/home/pj/anaconda3/envs/pytorch_p36/lib/python3.6/multiprocessing/connection.py\", line 368, in _send\n",
      "    n = write(self._handle, buf)\n",
      "BrokenPipeError: [Errno 32] Broken pipe\n",
      "  File \"/home/pj/anaconda3/envs/pytorch_p36/lib/python3.6/multiprocessing/connection.py\", line 404, in _send_bytes\n",
      "    self._send(header + buf)\n",
      "  File \"/home/pj/anaconda3/envs/pytorch_p36/lib/python3.6/multiprocessing/connection.py\", line 368, in _send\n",
      "    n = write(self._handle, buf)\n",
      "BrokenPipeError: [Errno 32] Broken pipe\n"
     ]
    },
    {
     "ename": "KeyboardInterrupt",
     "evalue": "",
     "output_type": "error",
     "traceback": [
      "\u001b[0;31m---------------------------------------------------------------------------\u001b[0m",
      "\u001b[0;31mKeyboardInterrupt\u001b[0m                         Traceback (most recent call last)",
      "\u001b[0;32m<ipython-input-12-263240bbee7e>\u001b[0m in \u001b[0;36m<module>\u001b[0;34m\u001b[0m\n\u001b[0;32m----> 1\u001b[0;31m \u001b[0mmain\u001b[0m\u001b[0;34m(\u001b[0m\u001b[0;34m)\u001b[0m\u001b[0;34m\u001b[0m\u001b[0;34m\u001b[0m\u001b[0m\n\u001b[0m",
      "\u001b[0;32m<ipython-input-11-6dd638ee679b>\u001b[0m in \u001b[0;36mmain\u001b[0;34m()\u001b[0m\n\u001b[1;32m     24\u001b[0m     \u001b[0moptimizer\u001b[0m \u001b[0;34m=\u001b[0m \u001b[0mtorch\u001b[0m\u001b[0;34m.\u001b[0m\u001b[0moptim\u001b[0m\u001b[0;34m.\u001b[0m\u001b[0mSGD\u001b[0m\u001b[0;34m(\u001b[0m\u001b[0mmodel\u001b[0m\u001b[0;34m.\u001b[0m\u001b[0mparameters\u001b[0m\u001b[0;34m(\u001b[0m\u001b[0;34m)\u001b[0m\u001b[0;34m,\u001b[0m \u001b[0mlr\u001b[0m\u001b[0;34m=\u001b[0m\u001b[0;36m0.001\u001b[0m\u001b[0;34m,\u001b[0m \u001b[0mmomentum\u001b[0m\u001b[0;34m=\u001b[0m\u001b[0;36m0.9\u001b[0m\u001b[0;34m)\u001b[0m\u001b[0;34m\u001b[0m\u001b[0;34m\u001b[0m\u001b[0m\n\u001b[1;32m     25\u001b[0m     \u001b[0mcriterion\u001b[0m \u001b[0;34m=\u001b[0m \u001b[0mnn\u001b[0m\u001b[0;34m.\u001b[0m\u001b[0mCrossEntropyLoss\u001b[0m\u001b[0;34m(\u001b[0m\u001b[0;34m)\u001b[0m\u001b[0;34m.\u001b[0m\u001b[0mto\u001b[0m\u001b[0;34m(\u001b[0m\u001b[0mdevice\u001b[0m\u001b[0;34m)\u001b[0m\u001b[0;34m\u001b[0m\u001b[0;34m\u001b[0m\u001b[0m\n\u001b[0;32m---> 26\u001b[0;31m     \u001b[0mmodel_ft\u001b[0m \u001b[0;34m=\u001b[0m \u001b[0mtrain\u001b[0m\u001b[0;34m(\u001b[0m\u001b[0mmodel\u001b[0m\u001b[0;34m,\u001b[0m \u001b[0mdataloadersTrain\u001b[0m\u001b[0;34m,\u001b[0m \u001b[0mdataloadersTest\u001b[0m\u001b[0;34m,\u001b[0m \u001b[0moptimizer\u001b[0m\u001b[0;34m,\u001b[0m \u001b[0mcriterion\u001b[0m\u001b[0;34m,\u001b[0m \u001b[0;36m500\u001b[0m\u001b[0;34m)\u001b[0m\u001b[0;34m\u001b[0m\u001b[0;34m\u001b[0m\u001b[0m\n\u001b[0m",
      "\u001b[0;32m<ipython-input-3-8a8a32d3b7fb>\u001b[0m in \u001b[0;36mtrain\u001b[0;34m(net, trainLoader, testLoader, optimizer, criterion, epochs)\u001b[0m\n\u001b[1;32m      9\u001b[0m         \u001b[0;32mfor\u001b[0m \u001b[0mx\u001b[0m\u001b[0;34m,\u001b[0m \u001b[0mlabel\u001b[0m \u001b[0;32min\u001b[0m \u001b[0mtrainLoader\u001b[0m\u001b[0;34m:\u001b[0m\u001b[0;34m\u001b[0m\u001b[0;34m\u001b[0m\u001b[0m\n\u001b[1;32m     10\u001b[0m             \u001b[0mcount\u001b[0m \u001b[0;34m+=\u001b[0m \u001b[0mlen\u001b[0m\u001b[0;34m(\u001b[0m\u001b[0mx\u001b[0m\u001b[0;34m)\u001b[0m\u001b[0;34m\u001b[0m\u001b[0;34m\u001b[0m\u001b[0m\n\u001b[0;32m---> 11\u001b[0;31m             \u001b[0mx\u001b[0m \u001b[0;34m=\u001b[0m \u001b[0mx\u001b[0m\u001b[0;34m.\u001b[0m\u001b[0mto\u001b[0m\u001b[0;34m(\u001b[0m\u001b[0mdevice\u001b[0m\u001b[0;34m)\u001b[0m\u001b[0;34m\u001b[0m\u001b[0;34m\u001b[0m\u001b[0m\n\u001b[0m\u001b[1;32m     12\u001b[0m             \u001b[0mlabel\u001b[0m \u001b[0;34m=\u001b[0m \u001b[0mlabel\u001b[0m\u001b[0;34m.\u001b[0m\u001b[0mto\u001b[0m\u001b[0;34m(\u001b[0m\u001b[0mdevice\u001b[0m\u001b[0;34m,\u001b[0m \u001b[0mdtype\u001b[0m\u001b[0;34m=\u001b[0m\u001b[0mtorch\u001b[0m\u001b[0;34m.\u001b[0m\u001b[0mlong\u001b[0m\u001b[0;34m)\u001b[0m\u001b[0;34m\u001b[0m\u001b[0;34m\u001b[0m\u001b[0m\n\u001b[1;32m     13\u001b[0m             \u001b[0moptimizer\u001b[0m\u001b[0;34m.\u001b[0m\u001b[0mzero_grad\u001b[0m\u001b[0;34m(\u001b[0m\u001b[0;34m)\u001b[0m\u001b[0;34m\u001b[0m\u001b[0;34m\u001b[0m\u001b[0m\n",
      "\u001b[0;31mKeyboardInterrupt\u001b[0m: "
     ]
    }
   ],
   "source": [
    "main()"
   ]
  },
  {
   "cell_type": "code",
   "execution_count": null,
   "metadata": {
    "collapsed": true
   },
   "outputs": [],
   "source": []
  }
 ],
 "metadata": {
  "kernelspec": {
   "display_name": "pytorch_p36",
   "language": "python",
   "name": "pytorch_p36"
  },
  "language_info": {
   "codemirror_mode": {
    "name": "ipython",
    "version": 3
   },
   "file_extension": ".py",
   "mimetype": "text/x-python",
   "name": "python",
   "nbconvert_exporter": "python",
   "pygments_lexer": "ipython3",
   "version": "3.6.8"
  }
 },
 "nbformat": 4,
 "nbformat_minor": 2
}
